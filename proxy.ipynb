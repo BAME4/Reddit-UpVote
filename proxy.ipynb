{
 "cells": [
  {
   "cell_type": "code",
   "execution_count": 4,
   "metadata": {},
   "outputs": [],
   "source": [
    "from selenium import webdriver\n",
    "from selenium.webdriver.common.by import By\n",
    "from selenium.webdriver.support.ui import Select\n",
    "from selenium.common.exceptions import NoSuchElementException\n",
    "import unittest, time, re\n",
    "from selenium.webdriver.common.desired_capabilities import DesiredCapabilities\n",
    "\n",
    "from selenium.webdriver.common.proxy import *\n",
    "from bs4 import BeautifulSoup, Comment"
   ]
  },
  {
   "cell_type": "code",
   "execution_count": 101,
   "metadata": {},
   "outputs": [],
   "source": [
    "PROXY = \"23.89.78.238:3128\"\n",
    "webdriver.DesiredCapabilities.CHROME['proxy']={\n",
    "    \"httpProxy\":PROXY,\n",
    "    \"ftpProxy\":PROXY,\n",
    "    \"sslProxy\":PROXY,\n",
    "    \"noProxy\":None,\n",
    "    \"proxyType\":\"MANUAL\",\n",
    "    \"autodetect\":False\n",
    "}\n",
    "driver = webdriver.Chrome()\n",
    "driver.get('https://www.old.reddit.com/')"
   ]
  },
  {
   "cell_type": "code",
   "execution_count": 102,
   "metadata": {},
   "outputs": [],
   "source": [
    "driver.find_element_by_xpath(\"//a[contains(text(),'sign up')]\").click()"
   ]
  },
  {
   "cell_type": "code",
   "execution_count": 103,
   "metadata": {},
   "outputs": [],
   "source": [
    "driver.find_element_by_css_selector(\"#desktop-onboarding-sign-up-form > .c-btn\").click()"
   ]
  },
  {
   "cell_type": "code",
   "execution_count": 104,
   "metadata": {},
   "outputs": [],
   "source": [
    "driver.find_element_by_id('user_reg').send_keys('AsleepPhone')\n",
    "driver.find_element_by_id('passwd_reg').send_keys('quantorithm')\n"
   ]
  },
  {
   "cell_type": "code",
   "execution_count": 79,
   "metadata": {},
   "outputs": [],
   "source": [
    "driver.find_element_by_xpath(\"//div[@id='desktop-onboarding-browse']/div[3]/div[2]/footer/div/button[2]\").click()"
   ]
  },
  {
   "cell_type": "code",
   "execution_count": null,
   "metadata": {},
   "outputs": [],
   "source": []
  },
  {
   "cell_type": "code",
   "execution_count": null,
   "metadata": {},
   "outputs": [],
   "source": []
  },
  {
   "cell_type": "code",
   "execution_count": null,
   "metadata": {},
   "outputs": [],
   "source": []
  },
  {
   "cell_type": "code",
   "execution_count": null,
   "metadata": {},
   "outputs": [],
   "source": []
  },
  {
   "cell_type": "code",
   "execution_count": null,
   "metadata": {},
   "outputs": [],
   "source": []
  },
  {
   "cell_type": "code",
   "execution_count": null,
   "metadata": {},
   "outputs": [],
   "source": []
  },
  {
   "cell_type": "code",
   "execution_count": 7,
   "metadata": {},
   "outputs": [],
   "source": [
    "proxyList = open(\"proxies.txt\", \"r\").readlines()"
   ]
  },
  {
   "cell_type": "code",
   "execution_count": 12,
   "metadata": {},
   "outputs": [],
   "source": [
    "newProxyList = [proxy.replace('\\n', '') for proxy in proxyList]\n",
    "\n",
    "# newProxyList = []\n",
    "\n",
    "# for proxy in proxyList:\n",
    "#     newProxyList.append(proxy.replace('\\n', ''))"
   ]
  },
  {
   "cell_type": "code",
   "execution_count": 11,
   "metadata": {},
   "outputs": [
    {
     "data": {
      "text/plain": [
       "['167.160.78.98:3128',\n",
       " '172.245.106.163:3128',\n",
       " '172.245.129.124:3128',\n",
       " '198.23.223.31:3128',\n",
       " '207.210.239.211:3128',\n",
       " '23.250.79.19:3128',\n",
       " '172.81.112.175:3128',\n",
       " '172.81.113.51:3128',\n",
       " '192.210.148.108:3128',\n",
       " '192.210.223.59:3128',\n",
       " '107.183.160.101:3128',\n",
       " '196.17.119.76:3128',\n",
       " '209.251.21.74:3128',\n",
       " '23.245.254.43:3128',\n",
       " '52.124.19.160:3128',\n",
       " '107.174.54.94:3128',\n",
       " '196.16.234.130:3128',\n",
       " '196.16.241.237:3128',\n",
       " '196.17.117.74:3128',\n",
       " '23.94.239.13:3128',\n",
       " '107.152.242.151:3128',\n",
       " '216.163.199.211:3128',\n",
       " '23.236.232.217:3128',\n",
       " '23.245.73.138:3128',\n",
       " '23.88.190.18:3128',\n",
       " '107.183.87.82:3128',\n",
       " '149.20.247.62:3128',\n",
       " '198.46.166.107:3128',\n",
       " '23.244.184.5:3128',\n",
       " '23.89.185.161:3128',\n",
       " '107.172.14.38:3128',\n",
       " '149.20.246.20:3128',\n",
       " '196.17.239.36:3128',\n",
       " '23.244.153.237:3128',\n",
       " '23.89.78.238:3128']"
      ]
     },
     "execution_count": 11,
     "metadata": {},
     "output_type": "execute_result"
    }
   ],
   "source": [
    "newProxyList"
   ]
  },
  {
   "cell_type": "code",
   "execution_count": null,
   "metadata": {},
   "outputs": [],
   "source": []
  }
 ],
 "metadata": {
  "kernelspec": {
   "display_name": "Python 3",
   "language": "python",
   "name": "python3"
  },
  "language_info": {
   "codemirror_mode": {
    "name": "ipython",
    "version": 3
   },
   "file_extension": ".py",
   "mimetype": "text/x-python",
   "name": "python",
   "nbconvert_exporter": "python",
   "pygments_lexer": "ipython3",
   "version": "3.5.2"
  }
 },
 "nbformat": 4,
 "nbformat_minor": 2
}
