{
 "cells": [
  {
   "cell_type": "code",
   "execution_count": null,
   "metadata": {},
   "outputs": [],
   "source": [
    "167.160.78.98:3128   = DramaticGuitar\n",
    "172.245.106.163:3128 = AnxiousInspection\n",
    "172.245.129.124:3128 = SeverePenalty\n",
    "198.23.223.31:3128   = RealisticGene\n",
    "207.210.239.211:3128 = NumerousWarning \n",
    "23.250.79.19:3128    = RecentLoss\n",
    "172.81.112.175:3128  = WoodenChapter\n",
    "172.81.113.51:3128   = LegalFuneral\n",
    "192.210.148.108:3128 = CompetitiveWife\n",
    "192.210.223.59:3128  = UnlikelyHair\n",
    "107.183.160.101:3128 = CulturalPenalty\n",
    "196.17.119.76:3128   = PureSurgery\n",
    "209.251.21.74:3128   = CulturalHotel\n",
    "23.245.254.43:3128   = UnableMath\n",
    "52.124.19.160:3128   = EasternMonth\n",
    "107.174.54.94:3128   = ScaredResponse\n",
    "196.16.234.130:3128  = WillingMenu\n",
    "196.16.241.237:3128  = RareDiscussion\n",
    "196.17.117.74:3128   = PleasantCousin\n",
    "23.94.239.13:3128    = UnhappyActor\n",
    "107.152.242.151:3128 = UglyInitiative\n",
    "216.163.199.211:3128 = PleasantQueen\n",
    "23.236.232.217:3128  = CivilFinding\n",
    "23.245.73.138:3128   = ObviousMall\n",
    "23.88.190.18:3128    = PureClimate\n",
    "107.183.87.82:3128   = StrictFood\n",
    "149.20.247.62:3128   = CarefulHall\n",
    "198.46.166.107:3128  = AfraidFortune\n",
    "23.244.184.5:3128    = HelpfulCommittee\n",
    "23.89.185.161:3128   = UglyDevice\n",
    "107.172.14.38:3128   = BasicSympathy\n",
    "149.20.246.20:3128   = RelevantDriver\n",
    "196.17.239.36:3128   = DramaticWeek  \n",
    "23.244.153.237:3128  = UnitedOpinion\n",
    "23.89.78.238:3128    = AsleepPhone\n",
    "\n",
    "\n",
    "\n",
    "\n",
    "\n"
   ]
  }
 ],
 "metadata": {
  "kernelspec": {
   "display_name": "Python 3",
   "language": "python",
   "name": "python3"
  },
  "language_info": {
   "codemirror_mode": {
    "name": "ipython",
    "version": 3
   },
   "file_extension": ".py",
   "mimetype": "text/x-python",
   "name": "python",
   "nbconvert_exporter": "python",
   "pygments_lexer": "ipython3",
   "version": "3.5.2"
  }
 },
 "nbformat": 4,
 "nbformat_minor": 2
}
