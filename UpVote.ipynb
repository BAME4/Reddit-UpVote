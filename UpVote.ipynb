{
 "cells": [
  {
   "cell_type": "code",
   "execution_count": 1,
   "metadata": {},
   "outputs": [],
   "source": [
    "from selenium import webdriver\n",
    "from selenium.webdriver.common.keys import Keys\n",
    "from selenium.webdriver.support import expected_conditions as EC\n",
    "from selenium.webdriver.common.by import By\n",
    "from selenium.webdriver.common.action_chains import ActionChains\n",
    "from selenium.webdriver.support.ui import Select, WebDriverWait\n",
    "from selenium.common.exceptions import TimeoutException\n",
    "from selenium.webdriver.common.desired_capabilities import DesiredCapabilities\n",
    "from bs4 import BeautifulSoup, Comment\n",
    "import re\n",
    "import pandas as pd\n",
    "import os\n",
    "import numpy as np\n",
    "from random import randint\n",
    "import random"
   ]
  },
  {
   "cell_type": "code",
   "execution_count": 159,
   "metadata": {},
   "outputs": [],
   "source": [
    "driver = webdriver.Remote(command_executor='http://127.0.0.1:9515/wd/hub', desired_capabilities=DesiredCapabilities.CHROME)"
   ]
  },
  {
   "cell_type": "code",
   "execution_count": 160,
   "metadata": {},
   "outputs": [],
   "source": [
    "driver.get(\"https://old.reddit.com/\")\n",
    "\n",
    "driver.find_element_by_name('user').send_keys('bame_yonjan')\n",
    "driver.find_element_by_name('passwd').send_keys('tamang9818')\n",
    "driver.find_element_by_class_name(\"btn\").click()"
   ]
  },
  {
   "cell_type": "code",
   "execution_count": 174,
   "metadata": {},
   "outputs": [],
   "source": [
    "def random_upvote():    \n",
    "    \n",
    "    while True:\n",
    "        try:\n",
    "            amount = randint(1,10)\n",
    "            numbers = random.sample(range(1, 50), amount)\n",
    "            for number in numbers:\n",
    "                    try:\n",
    "                        driver.find_element_by_xpath(\"//*[@id='siteTable']/div[%s]/div[1]/div[1]\" % number).click()\n",
    "                    except Exception as e:\n",
    "                          str(e)\n",
    "            break\n",
    "        except:\n",
    "            pass\n",
    "                "
   ]
  },
  {
   "cell_type": "code",
   "execution_count": 175,
   "metadata": {},
   "outputs": [],
   "source": [
    "def upvote(new_count):    \n",
    "    counter = 1\n",
    "    while counter < 50:\n",
    "        if (counter == new_count):\n",
    "            driver.find_element_by_xpath(\"//*[@id='siteTable']/div[%s]/div[1]/div[1]\" % counter).click()\n",
    "\n",
    "        counter = counter + 2"
   ]
  },
  {
   "cell_type": "code",
   "execution_count": 176,
   "metadata": {},
   "outputs": [],
   "source": [
    "def random_downvote():    \n",
    "    \n",
    "    while True:\n",
    "        try:\n",
    "            amount = randint(1,10)\n",
    "            numbers = random.sample(range(1, 50), amount)\n",
    "            for number in numbers:\n",
    "                    try:\n",
    "                        driver.find_element_by_xpath(\"//*[@id='siteTable']/div[%s]/div[1]/div[5]\" % number).click()\n",
    "                    except Exception as e:\n",
    "                          str(e)\n",
    "            break\n",
    "        except:\n",
    "            pass"
   ]
  },
  {
   "cell_type": "code",
   "execution_count": 177,
   "metadata": {},
   "outputs": [],
   "source": [
    "def random_page():\n",
    "    num = 0\n",
    "    \n",
    "    number_of_subreddits = randint(2,7)\n",
    "    \n",
    "    while num < number_of_subreddits:\n",
    "        num = num + 1\n",
    "        url=\"https://old.reddit.com/r/random/\"\n",
    "        driver.get(url)\n",
    "        random_upvote()\n",
    "        random_downvote()"
   ]
  },
  {
   "cell_type": "code",
   "execution_count": 178,
   "metadata": {},
   "outputs": [],
   "source": [
    "def upvoter(subreddit, to_find):\n",
    "    url =\"https://old.reddit.com/r/{}/\".format(subreddit)\n",
    "    driver.get(url)\n",
    "    count = 1\n",
    "    soup=BeautifulSoup(driver.page_source, 'lxml')\n",
    "    posts = soup.find_all(\"div\", class_=\"sitetable linklisting\")\n",
    "\n",
    "    for post in posts:\n",
    "        for get_post in post.find_all('a', {'data-event-action': 'title'}):\n",
    "            print(get_post.get_text())\n",
    "\n",
    "            topic = to_find in get_post.get_text()\n",
    "\n",
    "            if topic == True:\n",
    "                break\n",
    "\n",
    "            count = count + 1\n",
    "\n",
    "    new_count = count + count - 1\n",
    "    d_count = randint(0, 25)\n",
    "\n",
    "    upvote(new_count)\n",
    "    random_page()\n"
   ]
  },
  {
   "cell_type": "code",
   "execution_count": 179,
   "metadata": {},
   "outputs": [
    {
     "name": "stdout",
     "output_type": "stream",
     "text": [
      "Subreddits:cnn\n",
      "To Find:Trump\n",
      "Direct links to CNN are now banned on this subreddit\n",
      "Is it just me or is Don Lemon is a bit drunk?\n",
      "Why does your website kill my audio?\n",
      "These are the true faces of evil\n",
      "Why Hasn't Don Lemon Been Fired?\n",
      "Matt Gaetz: \"65 of the 67 counties got it right. This is not a Florida problem. This is a Broward County problem.\"\n",
      "Keep your pawns off our page!\n",
      "MORAL PANIC\n",
      "JIM ACOSTA PHYSICALLY PUSHES FEMALE WHITE HOUSE STAFFER IN ORDER TO KEEP HOLD OF HIS PRECIOUS MICROPHONE\n",
      "Twitter banned!\n",
      "Squirrels Predict 2018 US Midterms\n",
      "CNN’s favorite Republican Ana Navarro bellows Trump is a ‘racist pig’ on national TV Conservative News Today\n"
     ]
    }
   ],
   "source": [
    "upvoter(input(\"Subreddits:\"), input(\"To Find:\"))"
   ]
  },
  {
   "cell_type": "code",
   "execution_count": null,
   "metadata": {},
   "outputs": [],
   "source": []
  },
  {
   "cell_type": "code",
   "execution_count": null,
   "metadata": {},
   "outputs": [],
   "source": []
  },
  {
   "cell_type": "code",
   "execution_count": null,
   "metadata": {},
   "outputs": [],
   "source": []
  }
 ],
 "metadata": {
  "kernelspec": {
   "display_name": "Python 3",
   "language": "python",
   "name": "python3"
  },
  "language_info": {
   "codemirror_mode": {
    "name": "ipython",
    "version": 3
   },
   "file_extension": ".py",
   "mimetype": "text/x-python",
   "name": "python",
   "nbconvert_exporter": "python",
   "pygments_lexer": "ipython3",
   "version": "3.5.2"
  }
 },
 "nbformat": 4,
 "nbformat_minor": 2
}
