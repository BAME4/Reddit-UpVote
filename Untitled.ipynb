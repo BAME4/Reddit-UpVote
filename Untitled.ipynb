{
 "cells": [
  {
   "cell_type": "code",
   "execution_count": 1,
   "metadata": {},
   "outputs": [],
   "source": [
    "import username_generator"
   ]
  },
  {
   "cell_type": "code",
   "execution_count": 4,
   "metadata": {},
   "outputs": [],
   "source": [
    "args = {'num': 50, 'underscores': False, 'no_print': True, 'fname': '',\n",
    "                'max_size': 20, 'min_size': 10, 'indentation': 0,\n",
    "                'no_intro': True, 'return_val': True}\n",
    "uname = username_generator.main(args=args)"
   ]
  },
  {
   "cell_type": "code",
   "execution_count": 5,
   "metadata": {},
   "outputs": [
    {
     "data": {
      "text/plain": [
       "['UnfairDepression',\n",
       " 'ConsciousConclusion',\n",
       " 'AcceptableLab',\n",
       " 'BasicSympathy',\n",
       " 'UglyDevice',\n",
       " 'InformalInstruction',\n",
       " 'AblePossibility',\n",
       " 'ConfidentCounty',\n",
       " 'SignificantFact',\n",
       " 'DifferentLanguage',\n",
       " 'ScaredThroat',\n",
       " 'AdministrativeDepth',\n",
       " 'EveryConfusion',\n",
       " 'ForeignLiterature',\n",
       " 'AwareReputation',\n",
       " 'SignificantSoup',\n",
       " 'TypicalDiscussion',\n",
       " 'AfraidActor',\n",
       " 'AvailableMenu',\n",
       " 'RelevantDriver',\n",
       " 'RecentEffort',\n",
       " 'ObviousKing',\n",
       " 'DramaticWeek',\n",
       " 'GlobalFreedom',\n",
       " 'HelpfulSoftware',\n",
       " 'PureSignificance',\n",
       " 'TypicalResource',\n",
       " 'SuitableDirection',\n",
       " 'SignificantCustomer',\n",
       " 'StrictManagement',\n",
       " 'ResponsibleSurgery',\n",
       " 'ConsciousDisease',\n",
       " 'SignificantApple',\n",
       " 'NumerousWoman',\n",
       " 'GuiltySuccess',\n",
       " 'EmbarrassedNewspaper',\n",
       " 'GuiltyEditor',\n",
       " 'AsleepPhone',\n",
       " 'EmotionalImprovement',\n",
       " 'ActualAgreement',\n",
       " 'DangerousWinner',\n",
       " 'ConfidentCriticism',\n",
       " 'InformalWood',\n",
       " 'AcceptableSolution',\n",
       " 'EmbarrassedLocation',\n",
       " 'ImpressiveRelation',\n",
       " 'ScaredPerson',\n",
       " 'AggressivePopulation',\n",
       " 'CapableNewspaper',\n",
       " 'UnitedOpinion']"
      ]
     },
     "execution_count": 5,
     "metadata": {},
     "output_type": "execute_result"
    }
   ],
   "source": [
    "uname\n"
   ]
  },
  {
   "cell_type": "code",
   "execution_count": null,
   "metadata": {},
   "outputs": [],
   "source": [
    "password = quantorithm"
   ]
  }
 ],
 "metadata": {
  "kernelspec": {
   "display_name": "Python 3",
   "language": "python",
   "name": "python3"
  },
  "language_info": {
   "codemirror_mode": {
    "name": "ipython",
    "version": 3
   },
   "file_extension": ".py",
   "mimetype": "text/x-python",
   "name": "python",
   "nbconvert_exporter": "python",
   "pygments_lexer": "ipython3",
   "version": "3.5.2"
  }
 },
 "nbformat": 4,
 "nbformat_minor": 2
}
